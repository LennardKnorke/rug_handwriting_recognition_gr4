{
 "cells": [
  {
   "cell_type": "code",
   "id": "initial_id",
   "metadata": {
    "collapsed": true,
    "ExecuteTime": {
     "end_time": "2024-05-24T10:35:28.251242Z",
     "start_time": "2024-05-24T10:35:26.577977Z"
    }
   },
   "source": [
    "import pandas as pd\n",
    "import numpy as np\n",
    "from collections import defaultdict\n",
    "import matplotlib.pyplot as pltd\n"
   ],
   "outputs": [],
   "execution_count": 1
  },
  {
   "metadata": {
    "ExecuteTime": {
     "end_time": "2024-05-24T10:35:28.277608Z",
     "start_time": "2024-05-24T10:35:28.252254Z"
    }
   },
   "cell_type": "code",
   "source": [
    "ngrams = pd.read_csv('../data/ngrams.csv', sep=',')\n",
    "ngrams.info()"
   ],
   "id": "8604c6f7cf62b63e",
   "outputs": [
    {
     "name": "stdout",
     "output_type": "stream",
     "text": [
      "<class 'pandas.core.frame.DataFrame'>\n",
      "RangeIndex: 6060 entries, 0 to 6059\n",
      "Data columns (total 3 columns):\n",
      " #   Column            Non-Null Count  Dtype \n",
      "---  ------            --------------  ----- \n",
      " 0   Hebrew_character  6060 non-null   object\n",
      " 1   Names             6060 non-null   object\n",
      " 2   Frequencies       6060 non-null   int64 \n",
      "dtypes: int64(1), object(2)\n",
      "memory usage: 142.2+ KB\n"
     ]
    }
   ],
   "execution_count": 2
  },
  {
   "metadata": {
    "ExecuteTime": {
     "end_time": "2024-05-24T10:35:30.149058Z",
     "start_time": "2024-05-24T10:35:30.145435Z"
    }
   },
   "cell_type": "code",
   "source": "ngrams.Names.apply(str);",
   "id": "6044d4bdb43d5e38",
   "outputs": [],
   "execution_count": 3
  },
  {
   "metadata": {
    "ExecuteTime": {
     "end_time": "2024-05-24T10:35:30.908893Z",
     "start_time": "2024-05-24T10:35:30.902905Z"
    }
   },
   "cell_type": "code",
   "source": "ngrams['n'] = list(map(lambda s: s.count('_') + 1, ngrams['Names']))",
   "id": "8015e99e1f1bd092",
   "outputs": [],
   "execution_count": 4
  },
  {
   "metadata": {
    "ExecuteTime": {
     "end_time": "2024-05-24T10:35:31.595476Z",
     "start_time": "2024-05-24T10:35:31.584879Z"
    }
   },
   "cell_type": "code",
   "source": "ngrams",
   "id": "82605df6ae86d6dc",
   "outputs": [
    {
     "data": {
      "text/plain": [
       "     Hebrew_character                            Names  Frequencies  n\n",
       "0                  אל                       Alef_Lamed          800  2\n",
       "1                 כול                    Kaf_Waw_Lamed          788  3\n",
       "2                 אשר                   Alef_Shin_Resh          780  3\n",
       "3                  על                       Ayin_Lamed          710  2\n",
       "4                  את                         Alef_Taw          688  2\n",
       "...               ...                              ...          ... ..\n",
       "6055           ויטמאו  Waw_Yod_Tet_Mem-medial_Alef_Waw            2  6\n",
       "6056             מקרה           Mem-medial_Qof_Resh_He            2  4\n",
       "6057             פלאך          Pe_Lamed_Alef_Kaf-final            2  4\n",
       "6058             באמר         Bet_Alef_Mem-medial_Resh            2  4\n",
       "6059             ברשע               Bet_Resh_Shin_Ayin            2  4\n",
       "\n",
       "[6060 rows x 4 columns]"
      ],
      "text/html": [
       "<div>\n",
       "<style scoped>\n",
       "    .dataframe tbody tr th:only-of-type {\n",
       "        vertical-align: middle;\n",
       "    }\n",
       "\n",
       "    .dataframe tbody tr th {\n",
       "        vertical-align: top;\n",
       "    }\n",
       "\n",
       "    .dataframe thead th {\n",
       "        text-align: right;\n",
       "    }\n",
       "</style>\n",
       "<table border=\"1\" class=\"dataframe\">\n",
       "  <thead>\n",
       "    <tr style=\"text-align: right;\">\n",
       "      <th></th>\n",
       "      <th>Hebrew_character</th>\n",
       "      <th>Names</th>\n",
       "      <th>Frequencies</th>\n",
       "      <th>n</th>\n",
       "    </tr>\n",
       "  </thead>\n",
       "  <tbody>\n",
       "    <tr>\n",
       "      <th>0</th>\n",
       "      <td>אל</td>\n",
       "      <td>Alef_Lamed</td>\n",
       "      <td>800</td>\n",
       "      <td>2</td>\n",
       "    </tr>\n",
       "    <tr>\n",
       "      <th>1</th>\n",
       "      <td>כול</td>\n",
       "      <td>Kaf_Waw_Lamed</td>\n",
       "      <td>788</td>\n",
       "      <td>3</td>\n",
       "    </tr>\n",
       "    <tr>\n",
       "      <th>2</th>\n",
       "      <td>אשר</td>\n",
       "      <td>Alef_Shin_Resh</td>\n",
       "      <td>780</td>\n",
       "      <td>3</td>\n",
       "    </tr>\n",
       "    <tr>\n",
       "      <th>3</th>\n",
       "      <td>על</td>\n",
       "      <td>Ayin_Lamed</td>\n",
       "      <td>710</td>\n",
       "      <td>2</td>\n",
       "    </tr>\n",
       "    <tr>\n",
       "      <th>4</th>\n",
       "      <td>את</td>\n",
       "      <td>Alef_Taw</td>\n",
       "      <td>688</td>\n",
       "      <td>2</td>\n",
       "    </tr>\n",
       "    <tr>\n",
       "      <th>...</th>\n",
       "      <td>...</td>\n",
       "      <td>...</td>\n",
       "      <td>...</td>\n",
       "      <td>...</td>\n",
       "    </tr>\n",
       "    <tr>\n",
       "      <th>6055</th>\n",
       "      <td>ויטמאו</td>\n",
       "      <td>Waw_Yod_Tet_Mem-medial_Alef_Waw</td>\n",
       "      <td>2</td>\n",
       "      <td>6</td>\n",
       "    </tr>\n",
       "    <tr>\n",
       "      <th>6056</th>\n",
       "      <td>מקרה</td>\n",
       "      <td>Mem-medial_Qof_Resh_He</td>\n",
       "      <td>2</td>\n",
       "      <td>4</td>\n",
       "    </tr>\n",
       "    <tr>\n",
       "      <th>6057</th>\n",
       "      <td>פלאך</td>\n",
       "      <td>Pe_Lamed_Alef_Kaf-final</td>\n",
       "      <td>2</td>\n",
       "      <td>4</td>\n",
       "    </tr>\n",
       "    <tr>\n",
       "      <th>6058</th>\n",
       "      <td>באמר</td>\n",
       "      <td>Bet_Alef_Mem-medial_Resh</td>\n",
       "      <td>2</td>\n",
       "      <td>4</td>\n",
       "    </tr>\n",
       "    <tr>\n",
       "      <th>6059</th>\n",
       "      <td>ברשע</td>\n",
       "      <td>Bet_Resh_Shin_Ayin</td>\n",
       "      <td>2</td>\n",
       "      <td>4</td>\n",
       "    </tr>\n",
       "  </tbody>\n",
       "</table>\n",
       "<p>6060 rows × 4 columns</p>\n",
       "</div>"
      ]
     },
     "execution_count": 5,
     "metadata": {},
     "output_type": "execute_result"
    }
   ],
   "execution_count": 5
  },
  {
   "metadata": {
    "ExecuteTime": {
     "end_time": "2024-05-24T10:35:32.705055Z",
     "start_time": "2024-05-24T10:35:32.701455Z"
    }
   },
   "cell_type": "code",
   "source": "bigrams = ngrams[ngrams['n'] == 2]",
   "id": "a6a312eff428bf2a",
   "outputs": [],
   "execution_count": 6
  },
  {
   "metadata": {
    "ExecuteTime": {
     "end_time": "2024-05-24T10:35:33.986692Z",
     "start_time": "2024-05-24T10:35:33.980670Z"
    }
   },
   "cell_type": "code",
   "source": "bigrams",
   "id": "f426f333ba79816a",
   "outputs": [
    {
     "data": {
      "text/plain": [
       "     Hebrew_character                   Names  Frequencies  n\n",
       "0                  אל              Alef_Lamed          800  2\n",
       "3                  על              Ayin_Lamed          710  2\n",
       "4                  את                Alef_Taw          688  2\n",
       "5                  כי                 Kaf_Yod          423  2\n",
       "7                  עד              Ayin_Dalet          340  2\n",
       "...               ...                     ...          ... ..\n",
       "5263               יז               Yod_Zayin            2  2\n",
       "5304               כא                Kaf_Alef            2  2\n",
       "5362               נץ  Nun-medial_Tasdi-final            2  2\n",
       "5738               קל               Qof_Lamed            2  2\n",
       "5963               ול               Waw_Lamed            2  2\n",
       "\n",
       "[138 rows x 4 columns]"
      ],
      "text/html": [
       "<div>\n",
       "<style scoped>\n",
       "    .dataframe tbody tr th:only-of-type {\n",
       "        vertical-align: middle;\n",
       "    }\n",
       "\n",
       "    .dataframe tbody tr th {\n",
       "        vertical-align: top;\n",
       "    }\n",
       "\n",
       "    .dataframe thead th {\n",
       "        text-align: right;\n",
       "    }\n",
       "</style>\n",
       "<table border=\"1\" class=\"dataframe\">\n",
       "  <thead>\n",
       "    <tr style=\"text-align: right;\">\n",
       "      <th></th>\n",
       "      <th>Hebrew_character</th>\n",
       "      <th>Names</th>\n",
       "      <th>Frequencies</th>\n",
       "      <th>n</th>\n",
       "    </tr>\n",
       "  </thead>\n",
       "  <tbody>\n",
       "    <tr>\n",
       "      <th>0</th>\n",
       "      <td>אל</td>\n",
       "      <td>Alef_Lamed</td>\n",
       "      <td>800</td>\n",
       "      <td>2</td>\n",
       "    </tr>\n",
       "    <tr>\n",
       "      <th>3</th>\n",
       "      <td>על</td>\n",
       "      <td>Ayin_Lamed</td>\n",
       "      <td>710</td>\n",
       "      <td>2</td>\n",
       "    </tr>\n",
       "    <tr>\n",
       "      <th>4</th>\n",
       "      <td>את</td>\n",
       "      <td>Alef_Taw</td>\n",
       "      <td>688</td>\n",
       "      <td>2</td>\n",
       "    </tr>\n",
       "    <tr>\n",
       "      <th>5</th>\n",
       "      <td>כי</td>\n",
       "      <td>Kaf_Yod</td>\n",
       "      <td>423</td>\n",
       "      <td>2</td>\n",
       "    </tr>\n",
       "    <tr>\n",
       "      <th>7</th>\n",
       "      <td>עד</td>\n",
       "      <td>Ayin_Dalet</td>\n",
       "      <td>340</td>\n",
       "      <td>2</td>\n",
       "    </tr>\n",
       "    <tr>\n",
       "      <th>...</th>\n",
       "      <td>...</td>\n",
       "      <td>...</td>\n",
       "      <td>...</td>\n",
       "      <td>...</td>\n",
       "    </tr>\n",
       "    <tr>\n",
       "      <th>5263</th>\n",
       "      <td>יז</td>\n",
       "      <td>Yod_Zayin</td>\n",
       "      <td>2</td>\n",
       "      <td>2</td>\n",
       "    </tr>\n",
       "    <tr>\n",
       "      <th>5304</th>\n",
       "      <td>כא</td>\n",
       "      <td>Kaf_Alef</td>\n",
       "      <td>2</td>\n",
       "      <td>2</td>\n",
       "    </tr>\n",
       "    <tr>\n",
       "      <th>5362</th>\n",
       "      <td>נץ</td>\n",
       "      <td>Nun-medial_Tasdi-final</td>\n",
       "      <td>2</td>\n",
       "      <td>2</td>\n",
       "    </tr>\n",
       "    <tr>\n",
       "      <th>5738</th>\n",
       "      <td>קל</td>\n",
       "      <td>Qof_Lamed</td>\n",
       "      <td>2</td>\n",
       "      <td>2</td>\n",
       "    </tr>\n",
       "    <tr>\n",
       "      <th>5963</th>\n",
       "      <td>ול</td>\n",
       "      <td>Waw_Lamed</td>\n",
       "      <td>2</td>\n",
       "      <td>2</td>\n",
       "    </tr>\n",
       "  </tbody>\n",
       "</table>\n",
       "<p>138 rows × 4 columns</p>\n",
       "</div>"
      ]
     },
     "execution_count": 7,
     "metadata": {},
     "output_type": "execute_result"
    }
   ],
   "execution_count": 7
  },
  {
   "metadata": {
    "ExecuteTime": {
     "end_time": "2024-05-24T10:35:39.453357Z",
     "start_time": "2024-05-24T10:35:39.450250Z"
    }
   },
   "cell_type": "code",
   "source": [
    "bigrams['first'] = list(map(lambda s: s.split('_')[0], bigrams['Names']))\n",
    "bigrams['second'] = list(map(lambda s: s.split('_')[1], bigrams['Names']))\n"
   ],
   "id": "46be1f912eeb4e48",
   "outputs": [
    {
     "name": "stderr",
     "output_type": "stream",
     "text": [
      "C:\\Users\\matti\\AppData\\Local\\Temp\\ipykernel_20464\\3437728828.py:1: SettingWithCopyWarning: \n",
      "A value is trying to be set on a copy of a slice from a DataFrame.\n",
      "Try using .loc[row_indexer,col_indexer] = value instead\n",
      "\n",
      "See the caveats in the documentation: https://pandas.pydata.org/pandas-docs/stable/user_guide/indexing.html#returning-a-view-versus-a-copy\n",
      "  bigrams['first'] = list(map(lambda s: s.split('_')[0], bigrams['Names']))\n",
      "C:\\Users\\matti\\AppData\\Local\\Temp\\ipykernel_20464\\3437728828.py:2: SettingWithCopyWarning: \n",
      "A value is trying to be set on a copy of a slice from a DataFrame.\n",
      "Try using .loc[row_indexer,col_indexer] = value instead\n",
      "\n",
      "See the caveats in the documentation: https://pandas.pydata.org/pandas-docs/stable/user_guide/indexing.html#returning-a-view-versus-a-copy\n",
      "  bigrams['second'] = list(map(lambda s: s.split('_')[1], bigrams['Names']))\n"
     ]
    }
   ],
   "execution_count": 8
  },
  {
   "metadata": {
    "ExecuteTime": {
     "end_time": "2024-05-24T10:35:56.605057Z",
     "start_time": "2024-05-24T10:35:56.601663Z"
    }
   },
   "cell_type": "code",
   "source": [
    "frequencies = defaultdict(int)\n",
    "for first, second, freq in zip(bigrams['first'], bigrams['second'], bigrams['Frequencies']):\n",
    "    frequencies[f'{first}_{second}'] += freq"
   ],
   "id": "aae8d1418a937fc7",
   "outputs": [],
   "execution_count": 9
  },
  {
   "metadata": {
    "ExecuteTime": {
     "end_time": "2024-05-24T10:35:57.869780Z",
     "start_time": "2024-05-24T10:35:57.866719Z"
    }
   },
   "cell_type": "code",
   "source": [
    "with open('../data/bigrams.csv', 'w') as file:\n",
    "    file.write('first,second,count\\n')\n",
    "    for key in frequencies:\n",
    "        first, second = key.split('_')\n",
    "        file.write(f\"{first},{second},{frequencies[key]}\\n\")"
   ],
   "id": "3f3449ecc5caa785",
   "outputs": [],
   "execution_count": 10
  },
  {
   "metadata": {
    "ExecuteTime": {
     "end_time": "2024-05-23T11:51:13.203668Z",
     "start_time": "2024-05-23T11:51:13.198556Z"
    }
   },
   "cell_type": "code",
   "source": "frequencies",
   "id": "c07c562c0d631d9c",
   "outputs": [
    {
     "data": {
      "text/plain": [
       "defaultdict(int,\n",
       "            {'Alef_Lamed': 800,\n",
       "             'Ayin_Lamed': 710,\n",
       "             'Alef_Taw': 688,\n",
       "             'Kaf_Yod': 423,\n",
       "             'Ayin_Dalet': 340,\n",
       "             'Dalet_Yod': 339,\n",
       "             'Mem_Nun': 338,\n",
       "             'Lamed_Alef': 286,\n",
       "             'Ayin_Mem': 279,\n",
       "             'Kaf_He': 209,\n",
       "             'Kaf_Lamed': 198,\n",
       "             'Lamed_Waw': 185,\n",
       "             'Bet_Waw': 156,\n",
       "             'Lamed_He': 154,\n",
       "             'Lamed_Yod': 152,\n",
       "             'Alef_Mem': 132,\n",
       "             'Alef_Waw': 127,\n",
       "             'Bet_He': 125,\n",
       "             'He_Mem': 124,\n",
       "             'Dalet_Nun': 117,\n",
       "             'Mem_He': 88,\n",
       "             'Shin_Mem': 73,\n",
       "             'Nun_Waw': 69,\n",
       "             'Lamed_Kaf': 69,\n",
       "             'Kaf_Nun': 65,\n",
       "             'Bet_Mem': 65,\n",
       "             'Pe_Yod': 59,\n",
       "             'Bet_Nun': 58,\n",
       "             'Waw_Waw': 56,\n",
       "             'He_Waw': 46,\n",
       "             'Waw_Alef': 44,\n",
       "             'Mem_Yod': 42,\n",
       "             'Lamed_Bet': 41,\n",
       "             'Zayin_He': 41,\n",
       "             'Het_Dalet': 38,\n",
       "             'Yod_Dalet': 38,\n",
       "             'Bet_Alef': 37,\n",
       "             'Resh_Ayin': 37,\n",
       "             'Alef_Pe': 37,\n",
       "             'Bet_Yod': 31,\n",
       "             'Alef_Shin': 29,\n",
       "             'Ayin_Taw': 28,\n",
       "             'Het_Yod': 28,\n",
       "             'He_Yod': 28,\n",
       "             'Bet_Resh': 28,\n",
       "             'Nun_Yod': 27,\n",
       "             'Waw_He': 26,\n",
       "             'He_Nun': 25,\n",
       "             'Pe_Nun': 25,\n",
       "             'Resh_Bet': 24,\n",
       "             'Kaf_Kaf': 24,\n",
       "             'Gimel_Mem': 23,\n",
       "             'He_Alef': 21,\n",
       "             'Shin_Lamed': 21,\n",
       "             'Waw_Mem': 21,\n",
       "             'Bet_Lamed': 19,\n",
       "             'Kaf_Mem': 19,\n",
       "             'Dalet_Alef': 18,\n",
       "             'Qof_Tasdi': 18,\n",
       "             'Lamed_Mem': 18,\n",
       "             'Shin_Shin': 17,\n",
       "             'Dalet_Mem': 16,\n",
       "             'Resh_Qof': 16,\n",
       "             'Nun_Alef': 16,\n",
       "             'Shin_Resh': 16,\n",
       "             'Mem_Alef': 14,\n",
       "             'Yod_Shin': 14,\n",
       "             'Bet_Taw': 14,\n",
       "             'Alef_Zayin': 13,\n",
       "             'He_Resh': 13,\n",
       "             'Waw_Kaf': 12,\n",
       "             'Nun_He': 11,\n",
       "             'Het_Gimel': 11,\n",
       "             'Resh_Zayin': 10,\n",
       "             'Qof_Het': 10,\n",
       "             'Alef_Bet': 10,\n",
       "             'Bet_Kaf': 10,\n",
       "             'Mem_Taw': 10,\n",
       "             'Waw_Yod': 9,\n",
       "             'Ayin_Tasdi': 9,\n",
       "             'Tet_Bet': 8,\n",
       "             'He_He': 7,\n",
       "             'Qof_Waw': 7,\n",
       "             'Mem_Waw': 7,\n",
       "             'Yod_Mem': 6,\n",
       "             'Yod_Alef': 6,\n",
       "             'Het_Mem': 6,\n",
       "             'Resh_Mem': 6,\n",
       "             'He_Kaf': 5,\n",
       "             'Alef_Nun': 5,\n",
       "             'Pe_He': 5,\n",
       "             'Taw_Nun': 5,\n",
       "             'Bet_Dalet': 5,\n",
       "             'Zayin_Resh': 5,\n",
       "             'Kaf_Het': 5,\n",
       "             'Yod_Taw': 4,\n",
       "             'Shin_Bet': 4,\n",
       "             'Gimel_Nun': 4,\n",
       "             'Shin_Alef': 4,\n",
       "             'Resh_Shin': 4,\n",
       "             'Yod_He': 4,\n",
       "             'Qof_Tsadi': 4,\n",
       "             'Ayin_Nun': 4,\n",
       "             'Shin_He': 4,\n",
       "             'Alef_Kaf': 4,\n",
       "             'Nun_Samekh': 3,\n",
       "             'Zayin_Yod': 3,\n",
       "             'Gimel_Dalet': 3,\n",
       "             'Shin_Nun': 3,\n",
       "             'He_Bet': 3,\n",
       "             'Gimel_Resh': 3,\n",
       "             'Mem_Kaf': 2,\n",
       "             'Tsadi_Lamed': 2,\n",
       "             'Gimel_Yod': 2,\n",
       "             'Pe_Resh': 2,\n",
       "             'Qof_Mem': 2,\n",
       "             'Shin_Dalet': 2,\n",
       "             'Shin_Taw': 2,\n",
       "             'Het_Nun': 2,\n",
       "             'Ayin_Tsadi': 2,\n",
       "             'Resh_Samekh': 2,\n",
       "             'Ayin_Zayin': 2,\n",
       "             'Dalet_He': 2,\n",
       "             'Tet_Lamed': 2,\n",
       "             'Het_Qof': 2,\n",
       "             'Dalet_Resh': 2,\n",
       "             'Tsadi_Waw': 2,\n",
       "             'Yod_Zayin': 2,\n",
       "             'Kaf_Alef': 2,\n",
       "             'Nun_Tasdi': 2,\n",
       "             'Qof_Lamed': 2,\n",
       "             'Waw_Lamed': 2})"
      ]
     },
     "execution_count": 183,
     "metadata": {},
     "output_type": "execute_result"
    }
   ],
   "execution_count": 183
  },
  {
   "metadata": {
    "ExecuteTime": {
     "end_time": "2024-05-23T09:04:15.746243Z",
     "start_time": "2024-05-23T09:04:15.736307Z"
    }
   },
   "cell_type": "code",
   "source": "bigrams",
   "id": "a3c3c72beb95ba35",
   "outputs": [
    {
     "data": {
      "text/plain": [
       "     Hebrew_character                   Names  Frequencies  n       first  \\\n",
       "0                  אל              Alef_Lamed          800  2        Alef   \n",
       "3                  על              Ayin_Lamed          710  2        Ayin   \n",
       "4                  את                Alef_Taw          688  2        Alef   \n",
       "5                  כי                 Kaf_Yod          423  2         Kaf   \n",
       "7                  עד              Ayin_Dalet          340  2        Ayin   \n",
       "...               ...                     ...          ... ..         ...   \n",
       "5263               יז               Yod_Zayin            2  2         Yod   \n",
       "5304               כא                Kaf_Alef            2  2         Kaf   \n",
       "5362               נץ  Nun-medial_Tasdi-final            2  2  Nun-medial   \n",
       "5738               קל               Qof_Lamed            2  2         Qof   \n",
       "5963               ול               Waw_Lamed            2  2         Waw   \n",
       "\n",
       "           second  \n",
       "0           Lamed  \n",
       "3           Lamed  \n",
       "4             Taw  \n",
       "5             Yod  \n",
       "7           Dalet  \n",
       "...           ...  \n",
       "5263        Zayin  \n",
       "5304         Alef  \n",
       "5362  Tasdi-final  \n",
       "5738        Lamed  \n",
       "5963        Lamed  \n",
       "\n",
       "[138 rows x 6 columns]"
      ],
      "text/html": [
       "<div>\n",
       "<style scoped>\n",
       "    .dataframe tbody tr th:only-of-type {\n",
       "        vertical-align: middle;\n",
       "    }\n",
       "\n",
       "    .dataframe tbody tr th {\n",
       "        vertical-align: top;\n",
       "    }\n",
       "\n",
       "    .dataframe thead th {\n",
       "        text-align: right;\n",
       "    }\n",
       "</style>\n",
       "<table border=\"1\" class=\"dataframe\">\n",
       "  <thead>\n",
       "    <tr style=\"text-align: right;\">\n",
       "      <th></th>\n",
       "      <th>Hebrew_character</th>\n",
       "      <th>Names</th>\n",
       "      <th>Frequencies</th>\n",
       "      <th>n</th>\n",
       "      <th>first</th>\n",
       "      <th>second</th>\n",
       "    </tr>\n",
       "  </thead>\n",
       "  <tbody>\n",
       "    <tr>\n",
       "      <th>0</th>\n",
       "      <td>אל</td>\n",
       "      <td>Alef_Lamed</td>\n",
       "      <td>800</td>\n",
       "      <td>2</td>\n",
       "      <td>Alef</td>\n",
       "      <td>Lamed</td>\n",
       "    </tr>\n",
       "    <tr>\n",
       "      <th>3</th>\n",
       "      <td>על</td>\n",
       "      <td>Ayin_Lamed</td>\n",
       "      <td>710</td>\n",
       "      <td>2</td>\n",
       "      <td>Ayin</td>\n",
       "      <td>Lamed</td>\n",
       "    </tr>\n",
       "    <tr>\n",
       "      <th>4</th>\n",
       "      <td>את</td>\n",
       "      <td>Alef_Taw</td>\n",
       "      <td>688</td>\n",
       "      <td>2</td>\n",
       "      <td>Alef</td>\n",
       "      <td>Taw</td>\n",
       "    </tr>\n",
       "    <tr>\n",
       "      <th>5</th>\n",
       "      <td>כי</td>\n",
       "      <td>Kaf_Yod</td>\n",
       "      <td>423</td>\n",
       "      <td>2</td>\n",
       "      <td>Kaf</td>\n",
       "      <td>Yod</td>\n",
       "    </tr>\n",
       "    <tr>\n",
       "      <th>7</th>\n",
       "      <td>עד</td>\n",
       "      <td>Ayin_Dalet</td>\n",
       "      <td>340</td>\n",
       "      <td>2</td>\n",
       "      <td>Ayin</td>\n",
       "      <td>Dalet</td>\n",
       "    </tr>\n",
       "    <tr>\n",
       "      <th>...</th>\n",
       "      <td>...</td>\n",
       "      <td>...</td>\n",
       "      <td>...</td>\n",
       "      <td>...</td>\n",
       "      <td>...</td>\n",
       "      <td>...</td>\n",
       "    </tr>\n",
       "    <tr>\n",
       "      <th>5263</th>\n",
       "      <td>יז</td>\n",
       "      <td>Yod_Zayin</td>\n",
       "      <td>2</td>\n",
       "      <td>2</td>\n",
       "      <td>Yod</td>\n",
       "      <td>Zayin</td>\n",
       "    </tr>\n",
       "    <tr>\n",
       "      <th>5304</th>\n",
       "      <td>כא</td>\n",
       "      <td>Kaf_Alef</td>\n",
       "      <td>2</td>\n",
       "      <td>2</td>\n",
       "      <td>Kaf</td>\n",
       "      <td>Alef</td>\n",
       "    </tr>\n",
       "    <tr>\n",
       "      <th>5362</th>\n",
       "      <td>נץ</td>\n",
       "      <td>Nun-medial_Tasdi-final</td>\n",
       "      <td>2</td>\n",
       "      <td>2</td>\n",
       "      <td>Nun-medial</td>\n",
       "      <td>Tasdi-final</td>\n",
       "    </tr>\n",
       "    <tr>\n",
       "      <th>5738</th>\n",
       "      <td>קל</td>\n",
       "      <td>Qof_Lamed</td>\n",
       "      <td>2</td>\n",
       "      <td>2</td>\n",
       "      <td>Qof</td>\n",
       "      <td>Lamed</td>\n",
       "    </tr>\n",
       "    <tr>\n",
       "      <th>5963</th>\n",
       "      <td>ול</td>\n",
       "      <td>Waw_Lamed</td>\n",
       "      <td>2</td>\n",
       "      <td>2</td>\n",
       "      <td>Waw</td>\n",
       "      <td>Lamed</td>\n",
       "    </tr>\n",
       "  </tbody>\n",
       "</table>\n",
       "<p>138 rows × 6 columns</p>\n",
       "</div>"
      ]
     },
     "execution_count": 10,
     "metadata": {},
     "output_type": "execute_result"
    }
   ],
   "execution_count": 10
  },
  {
   "metadata": {
    "ExecuteTime": {
     "end_time": "2024-05-23T09:04:15.752951Z",
     "start_time": "2024-05-23T09:04:15.746243Z"
    }
   },
   "cell_type": "code",
   "source": [
    "grams = {}\n",
    "total = {}\n",
    "\n",
    "for first, second, freq in zip(bigrams['first'], bigrams['second'], bigrams['Frequencies']):\n",
    "    \n",
    "    if '-' in first:\n",
    "        first = first.split('-')[0]\n",
    "\n",
    "    if '-' in second:\n",
    "        second = second.split('-')[0]\n",
    "        \n",
    "    try:\n",
    "        grams[first].append((second, freq))\n",
    "    except KeyError:\n",
    "        grams[first] = [(second, freq)]\n",
    "    try:\n",
    "        total[first] += freq\n",
    "    except KeyError:\n",
    "        total[first] = freq"
   ],
   "id": "a3a33f935b968500",
   "outputs": [],
   "execution_count": 11
  },
  {
   "metadata": {
    "ExecuteTime": {
     "end_time": "2024-05-23T11:13:15.777544Z",
     "start_time": "2024-05-23T11:13:15.773615Z"
    }
   },
   "cell_type": "code",
   "source": [
    "letter = 'Mem'\n",
    "relative_frequency(letter, bigrams)"
   ],
   "id": "555b38bce07bcc51",
   "outputs": [
    {
     "data": {
      "text/plain": [
       "(0, 770)"
      ]
     },
     "execution_count": 162,
     "metadata": {},
     "output_type": "execute_result"
    }
   ],
   "execution_count": 162
  },
  {
   "metadata": {
    "ExecuteTime": {
     "end_time": "2024-05-23T10:18:43.474246Z",
     "start_time": "2024-05-23T10:18:43.471173Z"
    }
   },
   "cell_type": "code",
   "source": [
    "def relative_frequency(letter, df_bg):\n",
    "    n_first = np.sum(df_bg[df_bg['first'] == letter]['Frequencies'])\n",
    "    n_second = np.sum(df_bg[df_bg['second'] == letter]['Frequencies'])\n",
    "    return n_first, n_second\n",
    "    "
   ],
   "id": "835959c5781d5ebe",
   "outputs": [],
   "execution_count": 84
  },
  {
   "metadata": {
    "ExecuteTime": {
     "end_time": "2024-05-23T11:12:00.914970Z",
     "start_time": "2024-05-23T11:12:00.910437Z"
    }
   },
   "cell_type": "code",
   "source": [
    "class Letter:\n",
    "    def __init__(self, data, name, eps=1e-2):\n",
    "        if '-' in name:\n",
    "            name = name.split('-')[0]\n",
    "        self.name = name\n",
    "        self.followers = defaultdict(float)\n",
    "        \n",
    "        n_first, n_second = relative_frequency(name, data)\n",
    "        f_eos = max(n_second - n_first, n_first * eps)\n",
    "        \n",
    "        data = data[data['first'] == name]\n",
    "        \n",
    "        self.followers['EOS'] = f_eos\n",
    "        n_first += f_eos\n",
    "        \n",
    "        for follower, freq in zip(data['second'], data['Frequencies']):\n",
    "            if '-' in follower:\n",
    "                follower = follower.split('-')[0]\n",
    "            self.followers[follower] += freq\n",
    "            \n",
    "        for follower in self.followers:\n",
    "            self.followers[follower] /= n_first\n",
    "            \n",
    "    def random_next(self):\n",
    "        rand_float = np.random.random()\n",
    "        for follower in self.followers:\n",
    "            rand_float -= self.followers[follower]\n",
    "            if rand_float <= 0:\n",
    "                return follower"
   ],
   "id": "5d65939e023ff0c2",
   "outputs": [],
   "execution_count": 157
  },
  {
   "metadata": {
    "ExecuteTime": {
     "end_time": "2024-05-23T11:21:28.612841Z",
     "start_time": "2024-05-23T11:21:28.593696Z"
    }
   },
   "cell_type": "code",
   "source": [
    "letters = {}\n",
    "l_set = set(bigrams['first']) | set(bigrams['second'])\n",
    "for letter in l_set:\n",
    "    print(letter)\n",
    "    letters[letter] = Letter(bigrams, letter)"
   ],
   "id": "5a1c447aa38f087a",
   "outputs": [
    {
     "name": "stdout",
     "output_type": "stream",
     "text": [
      "Gimel\n",
      "Bet\n",
      "Mem-medial\n",
      "Nun-medial\n",
      "Shin\n",
      "Tet\n",
      "Alef\n",
      "Qof\n",
      "Samekh\n",
      "Pe\n",
      "Pe-final\n",
      "Het\n",
      "Mem\n",
      "Tsadi\n",
      "Zayin\n",
      "Dalet\n",
      "Taw\n",
      "Kaf\n",
      "He\n",
      "Yod\n",
      "Ayin\n",
      "Waw\n",
      "Resh\n",
      "Kaf-final\n",
      "Tasdi-final\n",
      "Nun-final\n",
      "Lamed\n"
     ]
    }
   ],
   "execution_count": 168
  },
  {
   "metadata": {
    "ExecuteTime": {
     "end_time": "2024-05-23T11:22:11.462242Z",
     "start_time": "2024-05-23T11:22:11.458400Z"
    }
   },
   "cell_type": "code",
   "source": [
    "word = 'Alef'\n",
    "current = 'Alef'\n",
    "for _ in range(10):\n",
    "    try:\n",
    "        let = letters[current]\n",
    "    except KeyError:\n",
    "        print(current)\n",
    "    next = let.random_next()\n",
    "    word += f'_{next}'\n",
    "    current = next\n",
    "    \n",
    "print(word)"
   ],
   "id": "1126ad18eb520b1c",
   "outputs": [
    {
     "name": "stdout",
     "output_type": "stream",
     "text": [
      "Nun\n",
      "Nun\n",
      "Nun\n",
      "Nun\n",
      "Nun\n",
      "Nun\n",
      "Nun\n",
      "Nun\n",
      "Alef_Taw_Nun_Nun_Nun_Nun_Nun_Nun_Nun_Nun_Nun\n"
     ]
    }
   ],
   "execution_count": 170
  },
  {
   "metadata": {
    "ExecuteTime": {
     "end_time": "2024-05-23T11:02:39.153528Z",
     "start_time": "2024-05-23T11:02:39.150058Z"
    }
   },
   "cell_type": "code",
   "source": [
    "def leaky_norm(freq):\n",
    "    freq = freq - 0.5\n",
    "    freq = (np.tanh(5*freq) + 0.5) / 1.5\n",
    "    return freq\n",
    "    \n",
    "def edge_frequency(n_edge, n_total, alpha=0.05):\n",
    "    f_edge = n_edge / n_total\n",
    "    return leaky_norm(f_edge)"
   ],
   "id": "ac559f39bff86587",
   "outputs": [],
   "execution_count": 143
  },
  {
   "metadata": {
    "ExecuteTime": {
     "end_time": "2024-05-23T11:23:08.871650Z",
     "start_time": "2024-05-23T11:23:08.867018Z"
    }
   },
   "cell_type": "code",
   "source": "",
   "id": "217e05e907ea28e0",
   "outputs": [
    {
     "data": {
      "text/plain": [
       "defaultdict(float, {})"
      ]
     },
     "execution_count": 172,
     "metadata": {},
     "output_type": "execute_result"
    }
   ],
   "execution_count": 172
  },
  {
   "metadata": {
    "ExecuteTime": {
     "end_time": "2024-05-23T11:02:39.743932Z",
     "start_time": "2024-05-23T11:02:39.673250Z"
    }
   },
   "cell_type": "code",
   "source": [
    "fig, ax = plt.subplots()\n",
    "func = list(map(leaky_norm, np.linspace(0.01, 1.01, 1000)))\n",
    "ax.plot(func)"
   ],
   "id": "4637002945882d63",
   "outputs": [
    {
     "data": {
      "text/plain": [
       "[<matplotlib.lines.Line2D at 0x2066f3faed0>]"
      ]
     },
     "execution_count": 145,
     "metadata": {},
     "output_type": "execute_result"
    },
    {
     "data": {
      "text/plain": [
       "<Figure size 640x480 with 1 Axes>"
      ],
      "image/png": "[encoded data removed]"
     },
     "metadata": {},
     "output_type": "display_data"
    }
   ],
   "execution_count": 145
  }
 ],
 "metadata": {
  "kernelspec": {
   "display_name": "Python 3",
   "language": "python",
   "name": "python3"
  },
  "language_info": {
   "codemirror_mode": {
    "name": "ipython",
    "version": 2
   },
   "file_extension": ".py",
   "mimetype": "text/x-python",
   "name": "python",
   "nbconvert_exporter": "python",
   "pygments_lexer": "ipython2",
   "version": "2.7.6"
  }
 },
 "nbformat": 4,
 "nbformat_minor": 5
}
