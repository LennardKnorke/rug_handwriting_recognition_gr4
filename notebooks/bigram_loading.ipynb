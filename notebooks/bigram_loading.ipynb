{
 "cells": [
  {
   "cell_type": "code",
   "id": "initial_id",
   "metadata": {
    "collapsed": true,
    "ExecuteTime": {
     "end_time": "2024-05-24T10:36:12.716543Z",
     "start_time": "2024-05-24T10:36:12.714036Z"
    }
   },
   "source": [
    "import numpy as np\n",
    "import pandas as pd\n",
    "import matplotlib.pyplot as plt\n",
    "from collections import defaultdict"
   ],
   "outputs": [],
   "execution_count": 39
  },
  {
   "metadata": {
    "ExecuteTime": {
     "end_time": "2024-05-24T10:36:13.160493Z",
     "start_time": "2024-05-24T10:36:13.157257Z"
    }
   },
   "cell_type": "code",
   "source": [
    "def relative_frequency(letter, df_bg):\n",
    "    n_first = np.sum(df_bg[df_bg['first'] == letter]['count'])\n",
    "    n_second = np.sum(df_bg[df_bg['second'] == letter]['count'])\n",
    "    return n_first, n_second"
   ],
   "id": "7a685f673b2b73a",
   "outputs": [],
   "execution_count": 40
  },
  {
   "metadata": {
    "ExecuteTime": {
     "end_time": "2024-05-24T11:06:57.914367Z",
     "start_time": "2024-05-24T11:06:57.908354Z"
    }
   },
   "cell_type": "code",
   "source": [
    "class Letter:\n",
    "    def __init__(self, data, name, eps=1e-2):\n",
    "        self.name = name\n",
    "        self.followers = defaultdict(float)\n",
    "\n",
    "        n_first, n_second = relative_frequency(name, data)\n",
    "        #f_eos = max(n_second - n_first, n_first * eps)\n",
    "        f_eos = max(0, (n_second - n_first)) + eps * min(n_second, n_first)\n",
    "\n",
    "        data = data[data['first'] == name]\n",
    "        \n",
    "        if 'medial' in name:\n",
    "            f_eos = 0.0\n",
    "        \n",
    "        self.followers['EOW'] = f_eos\n",
    "        n_first += f_eos\n",
    "\n",
    "        for follower, freq in zip(data['second'], data['count']):\n",
    "            self.followers[follower] += freq\n",
    "\n",
    "        print(f'{name}: {n_first}, {f_eos}')\n",
    "        for follower in self.followers:\n",
    "            self.followers[follower] /= n_first\n",
    "\n",
    "    def random_next(self):\n",
    "        rand_float = np.random.random()\n",
    "        for follower in self.followers:\n",
    "            rand_float -= self.followers[follower]\n",
    "            if rand_float <= 0:\n",
    "                return follower\n",
    "            \n",
    "            \n",
    "class EOW_Letter(Letter):\n",
    "    def __init__(self, data, name='EOW', eps=1e-2):\n",
    "        \n",
    "        self.followers = defaultdict(float)\n",
    "        \n",
    "        total = 0\n",
    "        let_set = list(set(data['first']))\n",
    "        \n",
    "        for letter in let_set:\n",
    "            n_first, n_second = relative_frequency(letter, data)\n",
    "            self.followers[letter] += max(0, (n_first - n_second)) + eps * min(n_second, n_first)\n",
    "            total += self.followers[letter]\n",
    "            \n",
    "        for follower in self.followers:\n",
    "            self.followers[follower] /= total\n",
    "            "
   ],
   "id": "bda946302b154fe6",
   "outputs": [],
   "execution_count": 75
  },
  {
   "metadata": {
    "ExecuteTime": {
     "end_time": "2024-05-24T11:06:58.672939Z",
     "start_time": "2024-05-24T11:06:58.669017Z"
    }
   },
   "cell_type": "code",
   "source": "df_bigrams = pd.read_csv('../data/bigrams.csv')",
   "id": "88d8dbddf01f7154",
   "outputs": [],
   "execution_count": 76
  },
  {
   "metadata": {
    "ExecuteTime": {
     "end_time": "2024-05-24T12:40:59.575389Z",
     "start_time": "2024-05-24T12:40:59.549253Z"
    }
   },
   "cell_type": "code",
   "source": [
    "letters = {}\n",
    "let_set = set(df_bigrams['first']) | set(df_bigrams['second'])\n",
    "\n",
    "letters['EOW'] = EOW_Letter(df_bigrams, name='EOW', eps=5e-2)\n",
    "\n",
    "for letter in let_set:\n",
    "    letters[letter] = Letter(df_bigrams, letter, eps=5e-2)\n"
   ],
   "id": "3f492f4bdce2b12a",
   "outputs": [
    {
     "name": "stdout",
     "output_type": "stream",
     "text": [
      "Alef: 1867.4, 22.400000000000002\n",
      "Yod: 1146.7, 1072.7\n",
      "Waw: 663.5, 493.5\n",
      "Het: 87.75, 0.75\n",
      "Tet: 10.0, 0.0\n",
      "Dalet: 515.3, 21.3\n",
      "He: 689.6, 417.6\n",
      "Taw: 746.25, 741.25\n",
      "Pe: 91.2, 0.2\n",
      "Tasdi-final: 29.0, 29.0\n",
      "Bet: 552.5, 4.5\n",
      "Nun-final: 646.0, 646.0\n",
      "Mem: 770.0, 770.0\n",
      "Qof: 43.9, 0.9\n",
      "Mem-medial: 501.0, 0.0\n",
      "Pe-final: 33.0, 33.0\n",
      "Samekh: 5.0, 5.0\n",
      "Resh: 102.45, 3.45\n",
      "Tsadi: 6.2, 2.2\n",
      "Lamed: 1801.25, 896.25\n",
      "Kaf: 946.2, 1.2000000000000002\n",
      "Gimel: 35.55, 0.55\n",
      "Shin: 149.2, 3.2\n",
      "Kaf-final: 102.0, 102.0\n",
      "Nun-medial: 128.0, 0.0\n",
      "Ayin: 1375.85, 1.85\n",
      "Zayin: 50.35, 1.35\n"
     ]
    }
   ],
   "execution_count": 98
  },
  {
   "metadata": {
    "ExecuteTime": {
     "end_time": "2024-05-24T12:40:59.746061Z",
     "start_time": "2024-05-24T12:40:59.742036Z"
    }
   },
   "cell_type": "code",
   "source": "letters['EOW'].followers",
   "id": "c7002b0788d5b9e7",
   "outputs": [
    {
     "data": {
      "text/plain": [
       "defaultdict(float,\n",
       "            {'Alef': 0.26926433205600037,\n",
       "             'Yod': 0.0007019008233106955,\n",
       "             'Waw': 0.0016124748643624085,\n",
       "             'Het': 0.013800887809690026,\n",
       "             'Tet': 0.001897029252191069,\n",
       "             'Dalet': 0.016940471222066246,\n",
       "             'He': 0.002579959782979854,\n",
       "             'Taw': 4.7425731304776726e-05,\n",
       "             'Pe': 0.01654209507910612,\n",
       "             'Bet': 0.08773760291383693,\n",
       "             'Qof': 0.0049133057631748685,\n",
       "             'Mem-medial': 0.09143680995560952,\n",
       "             'Resh': 0.006345562848579126,\n",
       "             'Tsadi': 3.794058504382138e-05,\n",
       "             'Lamed': 0.008584057366164587,\n",
       "             'Kaf': 0.17494403763706037,\n",
       "             'Gimel': 0.004657206814129075,\n",
       "             'Shin': 0.01616268922866791,\n",
       "             'Nun-medial': 0.023380885533254923,\n",
       "             'Ayin': 0.2539837614296012,\n",
       "             'Zayin': 0.004429563303866146})"
      ]
     },
     "execution_count": 99,
     "metadata": {},
     "output_type": "execute_result"
    }
   ],
   "execution_count": 99
  },
  {
   "metadata": {
    "ExecuteTime": {
     "end_time": "2024-05-24T12:41:00.726579Z",
     "start_time": "2024-05-24T12:41:00.350103Z"
    }
   },
   "cell_type": "code",
   "source": [
    "counts = defaultdict(int)\n",
    "lengths = defaultdict(int)\n",
    "\n",
    "for letter in let_set:\n",
    "    counts[letter] = 0\n",
    "    \n",
    "print(len(let_set))\n",
    "\n",
    "WORDS = 100000\n",
    "for idx in range(WORDS):\n",
    "    current = 'EOW'\n",
    "    word = current\n",
    "    nxt = ''\n",
    "    length = 0\n",
    "    while True:\n",
    "        nxt = letters[current].random_next()\n",
    "        word += f'_{nxt}'\n",
    "        current = nxt\n",
    "        if nxt != 'EOW':\n",
    "            counts[nxt] += 1\n",
    "            length += 1\n",
    "        else:\n",
    "            break\n",
    "    lengths[length] += 1\n",
    "   \n",
    "for  letter in counts:\n",
    "    counts[letter] /= WORDS / 100\n",
    "    sep = ':' + (\n",
    "        '\\t' if len(letter) > 2 else '\\t\\t'\n",
    "    )\n",
    "    print(letter, counts[letter], sep=sep)\n",
    "print(lengths)\n"
   ],
   "id": "2e971afd4fdaf841",
   "outputs": [
    {
     "name": "stdout",
     "output_type": "stream",
     "text": [
      "27\n",
      "Alef:\t35.605\n",
      "Yod:\t21.56\n",
      "Waw:\t12.693\n",
      "Het:\t1.692\n",
      "Tet:\t0.182\n",
      "Dalet:\t9.706\n",
      "He:\t\t13.075\n",
      "Taw:\t14.18\n",
      "Pe:\t\t1.639\n",
      "Tasdi-final:\t0.56\n",
      "Bet:\t10.394\n",
      "Nun-final:\t12.266\n",
      "Mem:\t14.563\n",
      "Qof:\t0.833\n",
      "Mem-medial:\t9.427\n",
      "Pe-final:\t0.664\n",
      "Samekh:\t0.097\n",
      "Resh:\t1.932\n",
      "Tsadi:\t0.112\n",
      "Lamed:\t34.349\n",
      "Kaf:\t18.124\n",
      "Gimel:\t0.664\n",
      "Shin:\t2.872\n",
      "Kaf-final:\t1.959\n",
      "Nun-medial:\t2.455\n",
      "Ayin:\t26.038\n",
      "Zayin:\t1.001\n",
      "defaultdict(<class 'int'>, {2: 66536, 4: 7825, 3: 20359, 6: 979, 1: 1399, 5: 2373, 7: 320, 9: 51, 8: 119, 10: 28, 11: 8, 12: 3})\n"
     ]
    }
   ],
   "execution_count": 100
  },
  {
   "metadata": {
    "ExecuteTime": {
     "end_time": "2024-05-24T10:57:38.509225Z",
     "start_time": "2024-05-24T10:57:38.505876Z"
    }
   },
   "cell_type": "code",
   "source": [
    "for letter in let_set:\n",
    "    print(letter, letters[letter].followers['EOW'], sep=': ')"
   ],
   "id": "9cc6e61b5ca94b52",
   "outputs": [
    {
     "name": "stdout",
     "output_type": "stream",
     "text": [
      "Alef: 0.047619047619047616\n",
      "Yod: 0.9352580927384077\n",
      "Waw: 0.7404580152671756\n",
      "Het: 0.04761904761904763\n",
      "Tet: 0.047619047619047616\n",
      "Dalet: 0.04761904761904762\n",
      "He: 0.5976331360946746\n",
      "Taw: 0.9932975871313673\n",
      "Pe: 0.047619047619047616\n",
      "Tasdi-final: 1.0\n",
      "Bet: 0.04761904761904762\n",
      "Nun-final: 1.0\n",
      "Mem: 1.0\n",
      "Qof: 0.047619047619047616\n",
      "Mem-medial: 0.0\n",
      "Pe-final: 1.0\n",
      "Samekh: 1.0\n",
      "Resh: 0.047619047619047616\n",
      "Tsadi: 0.3333333333333333\n",
      "Lamed: 0.484624145785877\n",
      "Kaf: 0.047619047619047616\n",
      "Gimel: 0.047619047619047616\n",
      "Shin: 0.04761904761904762\n",
      "Kaf-final: 1.0\n",
      "Nun-medial: 0.0\n",
      "Ayin: 0.047619047619047616\n",
      "Zayin: 0.047619047619047616\n"
     ]
    }
   ],
   "execution_count": 56
  },
  {
   "metadata": {
    "ExecuteTime": {
     "end_time": "2024-05-23T14:57:12.325164Z",
     "start_time": "2024-05-23T14:57:12.320558Z"
    }
   },
   "cell_type": "code",
   "source": "relative_frequency('Samekh', df_bigrams)",
   "id": "b097a3b805dbea0b",
   "outputs": [
    {
     "data": {
      "text/plain": [
       "(0, 5)"
      ]
     },
     "execution_count": 49,
     "metadata": {},
     "output_type": "execute_result"
    }
   ],
   "execution_count": 49
  },
  {
   "metadata": {},
   "cell_type": "code",
   "outputs": [],
   "execution_count": null,
   "source": "",
   "id": "c1c5752b2f2d42b"
  }
 ],
 "metadata": {
  "kernelspec": {
   "display_name": "Python 3",
   "language": "python",
   "name": "python3"
  },
  "language_info": {
   "codemirror_mode": {
    "name": "ipython",
    "version": 2
   },
   "file_extension": ".py",
   "mimetype": "text/x-python",
   "name": "python",
   "nbconvert_exporter": "python",
   "pygments_lexer": "ipython2",
   "version": "2.7.6"
  }
 },
 "nbformat": 4,
 "nbformat_minor": 5
}
